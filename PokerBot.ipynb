{
  "nbformat": 4,
  "nbformat_minor": 0,
  "metadata": {
    "colab": {
      "provenance": [],
      "authorship_tag": "ABX9TyPNtT8B6FCdtWtenHvHxWLB",
      "include_colab_link": true
    },
    "kernelspec": {
      "name": "python3",
      "display_name": "Python 3"
    },
    "language_info": {
      "name": "python"
    }
  },
  "cells": [
    {
      "cell_type": "markdown",
      "metadata": {
        "id": "view-in-github",
        "colab_type": "text"
      },
      "source": [
        "<a href=\"https://colab.research.google.com/github/ZachLoschin/APNEA_Project/blob/main/PokerBot.ipynb\" target=\"_parent\"><img src=\"https://colab.research.google.com/assets/colab-badge.svg\" alt=\"Open In Colab\"/></a>"
      ]
    },
    {
      "cell_type": "code",
      "execution_count": 3,
      "metadata": {
        "id": "meXpeW0q2mhK"
      },
      "outputs": [],
      "source": [
        "# Relavent Libraries\n",
        "import pandas as pd\n",
        "import numpy as np\n",
        "import matplotlib.pyplot as plt\n",
        "import random\n",
        "import itertools"
      ]
    },
    {
      "cell_type": "code",
      "source": [
        "\"\"\"\n",
        "Define Storage Lists for Class Objects\n",
        "\"\"\"\n",
        "deckList = []\n",
        "playerList = []\n",
        "\n",
        "\"\"\"\n",
        "Define Class for Deck Objects\n",
        "\"\"\"\n",
        "class Deck:\n",
        "\n",
        "  # Initialize an unshuffled deck\n",
        "  def __init__(self, deckNumber):\n",
        "    self.deckNumber = deckNumber\n",
        "    suits = 'cdhs'\n",
        "    ranks = '23456789TJQKA'\n",
        "    self.cards = list(''.join(card) for card in itertools.product(ranks, suits))\n",
        "    deckList.append(self)\n",
        "  \n",
        "  # Function to deal cards to each player\n",
        "  def deal(self):\n",
        "    if playerList:\n",
        "      for player in playerList:\n",
        "        player.hand[0], player.hand[1] = deckList[0].cards.pop(), deckList[0].cards.pop()\n",
        "    else:\n",
        "      print(\"ERROR 1: NO PLAYER OBJECT FOUND\")\n",
        "\n",
        "  # Function to shuffle the deck to a random starting position\n",
        "  def shuffle(self):\n",
        "    random.shuffle(self.cards)\n",
        "\n",
        "\"\"\"\n",
        "Define Class for Players\n",
        "\"\"\"\n",
        "class Player:\n",
        "\n",
        "  # Initialize with a player number and an empty hand\n",
        "  def __init__(self, playerNumber):\n",
        "    self.playerNumber = playerNumber\n",
        "    self.hand = ['X', 'Y']\n",
        "    playerList.append(self)\n",
        "\n",
        "\"\"\"\n",
        "Define Function to Setup a Game\n",
        "\"\"\"\n",
        "def Play(numberOfPlayers, deckNumber):\n",
        "  # Clear the Game Lists\n",
        "  playerList[:] = []\n",
        "  deckList[:] = []\n",
        "\n",
        "  # Create a Deck\n",
        "  deck = Deck(deckNumber)\n",
        "\n",
        "  # Create Players\n",
        "  for i in range(numberOfPlayers):\n",
        "    playerList[i] = Player(i)\n",
        "\n",
        "  # Shuffle and Deal the Cards\n",
        "  deckList[0].shuffle()\n",
        "  deckList[0].deal()\n",
        "\n",
        "\"\"\"\n",
        "Define Function to Show Current Score for Player\n",
        "1) Royal Flush\n",
        "2) Straight Flush\n",
        "3) Four of a Kind\n",
        "4) Full House\n",
        "5) Flush\n",
        "6) Straight\n",
        "7) Three of a Kind\n",
        "8) Two Pair\n",
        "9) Pair\n",
        "10) High Card\n",
        "\"\"\"\n",
        "def currentScore():\n",
        "  # Check for "
      ],
      "metadata": {
        "id": "Ux6JkdAt2sk_"
      },
      "execution_count": null,
      "outputs": []
    },
    {
      "cell_type": "code",
      "source": [
        "Play(numberOfPlayers=5,deckNumber=1)\n"
      ],
      "metadata": {
        "id": "GA1l2Spa4flo"
      },
      "execution_count": 89,
      "outputs": []
    }
  ]
}