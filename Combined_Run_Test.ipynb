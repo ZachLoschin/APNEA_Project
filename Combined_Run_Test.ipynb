{
 "cells": [
  {
   "cell_type": "code",
   "execution_count": 1,
   "metadata": {},
   "outputs": [
    {
     "name": "stdout",
     "output_type": "stream",
     "text": [
      "Combined Running Started...\n"
     ]
    },
    {
     "name": "stderr",
     "output_type": "stream",
     "text": [
      "C:\\Users\\zloschin\\AppData\\Local\\Packages\\PythonSoftwareFoundation.Python.3.11_qbz5n2kfra8p0\\LocalCache\\local-packages\\Python311\\site-packages\\antropy\\fractal.py:197: NumbaDeprecationWarning: \u001b[1mThe 'nopython' keyword argument was not supplied to the 'numba.jit' decorator. The implicit default value for this argument is currently False, but it will be changed to True in Numba 0.59.0. See https://numba.readthedocs.io/en/stable/reference/deprecation.html#deprecation-of-object-mode-fall-back-behaviour-when-using-jit for details.\u001b[0m\n",
      "  @jit((types.Array(types.float64, 1, \"C\", readonly=True), types.int32))\n"
     ]
    }
   ],
   "source": [
    "print(\"Combined Running Started...\")\n",
    "import pathlib\n",
    "import My_Funcs as my\n",
    "import pandas as pd\n",
    "import mne\n",
    "import yasa\n",
    "import numpy as np\n",
    "import matplotlib.pyplot as plt\n",
    "import openpyxl\n",
    "import os\n",
    "import h5py"
   ]
  },
  {
   "cell_type": "code",
   "execution_count": 5,
   "metadata": {},
   "outputs": [],
   "source": [
    "\"\"\"\n",
    "Setup All File Paths\n",
    "\"\"\"\n",
    "\n",
    "# .EDF file path\n",
    "data_dir = pathlib.Path(\"D:/APNEA_project_edfs/File_Sig_Reruns/\")\n",
    "\n",
    "# Local table for reading in night division data\n",
    "div_data = pathlib.Path(\"./Complete_Table_Final.xlsx\")\n",
    "\n",
    "# Read in division data to DataFrame\n",
    "DivDF = pd.read_excel(div_data,engine='openpyxl')\n",
    "\n",
    "\"\"\"\n",
    "Storage Directories for Spindle detection\n",
    "\"\"\"\n",
    "# Spindle Folder\n",
    "pipdir_spindles = pathlib.Path(\"./Combined_Running/Spindles_Data/\")\n",
    "pipdir_spindles.mkdir(parents=True, exist_ok=True)\n",
    "\n",
    "# Shared directory for official runs\n",
    "dict_dir_spindles = pathlib.Path(\"./Combined_Running/Spindles_Data/Detected_Spindles/\")\n",
    "dict_dir_spindles.mkdir(parents=True, exist_ok=True)\n",
    "\n",
    "noise_dir_spindles = pathlib.Path(\"./Combined_Running/Spindles_Data/Detected_Noise/\")\n",
    "noise_dir_spindles.mkdir(parents=True, exist_ok=True)\n",
    "\n",
    "# Official error directory\n",
    "error_dir_spindles = pathlib.Path(\"./Combined_Running/Spindles_Data/Error_Storage/\")\n",
    "error_dir_spindles.mkdir(parents=True, exist_ok=True)\n",
    "\n",
    "\"\"\"\n",
    "Storage Directories for Slow wave detection\n",
    "\"\"\"\n",
    "# Directory for official running\n",
    "pipdir_sw = pathlib.Path(\"./Combined_Running/SW_Data/\")\n",
    "pipdir_sw.mkdir(parents=True, exist_ok=True)\n",
    "\n",
    "# Shared directory for official runs\n",
    "dict_dir_sw = pathlib.Path(\"./Combined_Running/SW_Data/Detected_SW/\")\n",
    "dict_dir_sw.mkdir(parents=True, exist_ok=True)\n",
    "\n",
    "noise_dir_sw = pathlib.Path(\"./Combined_Running/SW_Data/Detected_Noise/\")\n",
    "noise_dir_sw.mkdir(parents=True, exist_ok=True)\n",
    "\n",
    "# Official error directory\n",
    "error_dir_sw = pathlib.Path(\"./Combined_Running/SW_Data/Error_Storage/\")\n",
    "error_dir_sw.mkdir(parents=True, exist_ok=True)\n",
    "\n",
    "# Plots of average slow wave\n",
    "plot_dir_sw = pathlib.Path(\"./Combined_Running/SW_Data/Plots/\")\n",
    "plot_dir_sw.mkdir(parents=True, exist_ok=True)\n",
    "\n",
    "\"\"\"\n",
    "Storage lists for participant items\n",
    "\"\"\"\n",
    "N2D = []\n",
    "N3D = []\n",
    "N23D = []\n",
    "\n",
    "N2D_SW = []\n",
    "N3D_SW = []\n",
    "N23D_SW = []\n",
    "\n",
    "IDs = []\n",
    "AllIDs = []\n",
    "\n",
    "EndTimeN1 = []\n",
    "StartTimeN2 = []"
   ]
  },
  {
   "cell_type": "code",
   "execution_count": 6,
   "metadata": {},
   "outputs": [
    {
     "name": "stdout",
     "output_type": "stream",
     "text": [
      "Entering Participant Loop...\n",
      "ID: 451 Night: 2\n",
      "Reading in Patient 451\n",
      "Extracting EDF parameters from D:\\APNEA_project_edfs\\File_Sig_Reruns\\Zach_451_2.edf...\n",
      "EDF file detected\n",
      "Setting channel info structure...\n",
      "Creating raw.info structure...\n",
      "Reading 0 ... 5045759  =      0.000 ... 19709.996 secs...\n"
     ]
    },
    {
     "name": "stderr",
     "output_type": "stream",
     "text": [
      "C:\\Users\\zloschin\\AppData\\Local\\Temp\\ipykernel_280\\3236609621.py:21: RuntimeWarning: Physical range is not defined in following channels:\n",
      "RTC\n",
      "  rawImport = mne.io.read_raw_edf(file, preload=True)\n"
     ]
    },
    {
     "name": "stdout",
     "output_type": "stream",
     "text": [
      "Creating dict...\n",
      "Creating artifact label vector...\n",
      "Bandpass filtering...\n",
      "Beta pass filtering...\n",
      "Removing artifacts...\n",
      "D:/APNEA_project_edfs/ReadyForChecking/\\psgHypno-451_2.mat\n",
      "Len hypno\n",
      "657\n",
      "Len eeg\n",
      "5045760\n",
      "Detecting Spindles...\n",
      "Detecting spindles...\n"
     ]
    },
    {
     "name": "stderr",
     "output_type": "stream",
     "text": [
      "[Parallel(n_jobs=1)]: Using backend SequentialBackend with 1 concurrent workers.\n",
      "[Parallel(n_jobs=1)]: Done   1 out of   1 | elapsed:    0.0s remaining:    0.0s\n",
      "[Parallel(n_jobs=1)]: Done   1 out of   1 | elapsed:    0.0s finished\n",
      "[Parallel(n_jobs=1)]: Using backend SequentialBackend with 1 concurrent workers.\n",
      "[Parallel(n_jobs=1)]: Done   1 out of   1 | elapsed:    0.0s remaining:    0.0s\n",
      "[Parallel(n_jobs=1)]: Done   1 out of   1 | elapsed:    0.0s finished\n"
     ]
    },
    {
     "name": "stdout",
     "output_type": "stream",
     "text": [
      "Creating spindle dataframe...\n",
      "Removing everything but spindles...\n",
      "151372800\n",
      "Saving Spindle Data...\n",
      "Calculating Spindle Density...\n",
      "278\n",
      "115\n",
      "Entering Slow Wave Block...\n",
      "Detecting Slow Waves...\n"
     ]
    },
    {
     "name": "stderr",
     "output_type": "stream",
     "text": [
      "[Parallel(n_jobs=1)]: Using backend SequentialBackend with 1 concurrent workers.\n",
      "[Parallel(n_jobs=1)]: Done   1 out of   1 | elapsed:    0.0s remaining:    0.0s\n",
      "[Parallel(n_jobs=1)]: Done   1 out of   1 | elapsed:    0.0s finished\n",
      "[Parallel(n_jobs=1)]: Using backend SequentialBackend with 1 concurrent workers.\n",
      "[Parallel(n_jobs=1)]: Done   1 out of   1 | elapsed:    0.0s remaining:    0.0s\n",
      "[Parallel(n_jobs=1)]: Done   1 out of   1 | elapsed:    0.0s finished\n"
     ]
    },
    {
     "name": "stdout",
     "output_type": "stream",
     "text": [
      "Calculating average vectors...\n",
      "Calculating Slow Wave Densities...\n",
      "278\n",
      "115\n",
      "Saving Slow Wave Data...\n",
      "Plotting Average Slow Wave and Saving...\n",
      "ID: 20 Night: 1\n",
      "Reading in Patient 20\n",
      "Extracting EDF parameters from D:\\APNEA_project_edfs\\File_Sig_Reruns\\Zach_20_1.edf...\n",
      "EDF file detected\n",
      "Setting channel info structure...\n",
      "Creating raw.info structure...\n",
      "Reading 0 ... 6753279  =      0.000 ... 26379.996 secs...\n",
      "Creating dict...\n",
      "Creating artifact label vector...\n",
      "Bandpass filtering...\n",
      "Beta pass filtering...\n",
      "Removing artifacts...\n",
      "D:/APNEA_project_edfs/ReadyForChecking/\\psgHypno-20_1.mat\n",
      "Len hypno\n",
      "879\n",
      "Len eeg\n",
      "6753280\n",
      "6760720\n",
      "LENGTHS\n",
      "6753280\n",
      "6753280\n",
      "Detecting Spindles...\n",
      "Detecting spindles...\n"
     ]
    },
    {
     "name": "stderr",
     "output_type": "stream",
     "text": [
      "[Parallel(n_jobs=1)]: Using backend SequentialBackend with 1 concurrent workers.\n",
      "[Parallel(n_jobs=1)]: Done   1 out of   1 | elapsed:    0.0s remaining:    0.0s\n",
      "[Parallel(n_jobs=1)]: Done   1 out of   1 | elapsed:    0.0s finished\n",
      "[Parallel(n_jobs=1)]: Using backend SequentialBackend with 1 concurrent workers.\n",
      "[Parallel(n_jobs=1)]: Done   1 out of   1 | elapsed:    0.1s remaining:    0.0s\n",
      "[Parallel(n_jobs=1)]: Done   1 out of   1 | elapsed:    0.1s finished\n",
      "25-Aug-23 13:53:42 | WARNING | No spindle were found in channel EEG.\n",
      "25-Aug-23 13:53:42 | WARNING | No spindles were found in data. Returning None.\n"
     ]
    },
    {
     "name": "stdout",
     "output_type": "stream",
     "text": [
      "Creating spindle dataframe...\n",
      "**********************************\n",
      "'NoneType' object has no attribute 'summary'\n",
      "ID: 98 Night: 1\n",
      "Reading in Patient 98\n",
      "Extracting EDF parameters from D:\\APNEA_project_edfs\\File_Sig_Reruns\\Zach_98_1.edf...\n",
      "EDF file detected\n",
      "Setting channel info structure...\n",
      "Creating raw.info structure...\n",
      "Reading 0 ... 8184575  =      0.000 ... 31970.996 secs...\n",
      "Creating dict...\n",
      "Creating artifact label vector...\n",
      "Bandpass filtering...\n",
      "Beta pass filtering...\n",
      "Removing artifacts...\n",
      "D:/APNEA_project_edfs/ReadyForChecking/\\psgHypno-98_1.mat\n",
      "Len hypno\n",
      "1065\n",
      "Len eeg\n",
      "8184576\n",
      "8189200\n",
      "LENGTHS\n",
      "8184576\n",
      "8184576\n",
      "Detecting Spindles...\n",
      "Detecting spindles...\n"
     ]
    },
    {
     "name": "stderr",
     "output_type": "stream",
     "text": [
      "[Parallel(n_jobs=1)]: Using backend SequentialBackend with 1 concurrent workers.\n",
      "[Parallel(n_jobs=1)]: Done   1 out of   1 | elapsed:    0.2s remaining:    0.0s\n",
      "[Parallel(n_jobs=1)]: Done   1 out of   1 | elapsed:    0.2s finished\n",
      "[Parallel(n_jobs=1)]: Using backend SequentialBackend with 1 concurrent workers.\n",
      "[Parallel(n_jobs=1)]: Done   1 out of   1 | elapsed:    0.3s remaining:    0.0s\n",
      "[Parallel(n_jobs=1)]: Done   1 out of   1 | elapsed:    0.3s finished\n"
     ]
    },
    {
     "name": "stdout",
     "output_type": "stream",
     "text": [
      "Creating spindle dataframe...\n",
      "Removing everything but spindles...\n",
      "245537280\n",
      "Saving Spindle Data...\n",
      "Calculating Spindle Density...\n",
      "533\n",
      "76\n",
      "Entering Slow Wave Block...\n",
      "8189200\n",
      "LENGTHS\n",
      "8184576\n",
      "8184576\n",
      "Detecting Slow Waves...\n"
     ]
    },
    {
     "name": "stderr",
     "output_type": "stream",
     "text": [
      "[Parallel(n_jobs=1)]: Using backend SequentialBackend with 1 concurrent workers.\n",
      "[Parallel(n_jobs=1)]: Done   1 out of   1 | elapsed:    0.1s remaining:    0.0s\n",
      "[Parallel(n_jobs=1)]: Done   1 out of   1 | elapsed:    0.1s finished\n",
      "[Parallel(n_jobs=1)]: Using backend SequentialBackend with 1 concurrent workers.\n",
      "[Parallel(n_jobs=1)]: Done   1 out of   1 | elapsed:    0.1s remaining:    0.0s\n",
      "[Parallel(n_jobs=1)]: Done   1 out of   1 | elapsed:    0.1s finished\n"
     ]
    },
    {
     "name": "stdout",
     "output_type": "stream",
     "text": [
      "Calculating average vectors...\n",
      "Calculating Slow Wave Densities...\n",
      "533\n",
      "76\n",
      "Saving Slow Wave Data...\n",
      "Plotting Average Slow Wave and Saving...\n",
      "ID: 99 Night: 2\n",
      "Reading in Patient 99\n",
      "Extracting EDF parameters from D:\\APNEA_project_edfs\\File_Sig_Reruns\\Zach_99_2.edf...\n",
      "EDF file detected\n",
      "Setting channel info structure...\n",
      "Creating raw.info structure...\n",
      "Reading 0 ... 8163327  =      0.000 ... 31887.996 secs...\n"
     ]
    },
    {
     "name": "stderr",
     "output_type": "stream",
     "text": [
      "C:\\Users\\zloschin\\AppData\\Local\\Temp\\ipykernel_280\\3236609621.py:21: RuntimeWarning: Physical range is not defined in following channels:\n",
      "RTC\n",
      "  rawImport = mne.io.read_raw_edf(file, preload=True)\n"
     ]
    },
    {
     "name": "stdout",
     "output_type": "stream",
     "text": [
      "Creating dict...\n",
      "Creating artifact label vector...\n",
      "Bandpass filtering...\n",
      "Beta pass filtering...\n",
      "Removing artifacts...\n",
      "D:/APNEA_project_edfs/ReadyForChecking/\\psgHypno-99_2.mat\n",
      "Len hypno\n",
      "1062\n",
      "Len eeg\n",
      "8163328\n",
      "8166160\n",
      "LENGTHS\n",
      "8163328\n",
      "8163328\n",
      "Detecting Spindles...\n",
      "Detecting spindles...\n"
     ]
    },
    {
     "name": "stderr",
     "output_type": "stream",
     "text": [
      "[Parallel(n_jobs=1)]: Using backend SequentialBackend with 1 concurrent workers.\n",
      "[Parallel(n_jobs=1)]: Done   1 out of   1 | elapsed:    0.2s remaining:    0.0s\n",
      "[Parallel(n_jobs=1)]: Done   1 out of   1 | elapsed:    0.2s finished\n",
      "[Parallel(n_jobs=1)]: Using backend SequentialBackend with 1 concurrent workers.\n",
      "[Parallel(n_jobs=1)]: Done   1 out of   1 | elapsed:    0.3s remaining:    0.0s\n",
      "[Parallel(n_jobs=1)]: Done   1 out of   1 | elapsed:    0.3s finished\n"
     ]
    },
    {
     "name": "stdout",
     "output_type": "stream",
     "text": [
      "Creating spindle dataframe...\n",
      "Removing everything but spindles...\n",
      "244899840\n",
      "Saving Spindle Data...\n",
      "Calculating Spindle Density...\n",
      "455\n",
      "25\n",
      "Entering Slow Wave Block...\n",
      "8166160\n",
      "LENGTHS\n",
      "8163328\n",
      "8163328\n",
      "Detecting Slow Waves...\n"
     ]
    },
    {
     "name": "stderr",
     "output_type": "stream",
     "text": [
      "[Parallel(n_jobs=1)]: Using backend SequentialBackend with 1 concurrent workers.\n",
      "[Parallel(n_jobs=1)]: Done   1 out of   1 | elapsed:    0.1s remaining:    0.0s\n",
      "[Parallel(n_jobs=1)]: Done   1 out of   1 | elapsed:    0.1s finished\n",
      "[Parallel(n_jobs=1)]: Using backend SequentialBackend with 1 concurrent workers.\n",
      "[Parallel(n_jobs=1)]: Done   1 out of   1 | elapsed:    0.1s remaining:    0.0s\n",
      "[Parallel(n_jobs=1)]: Done   1 out of   1 | elapsed:    0.1s finished\n"
     ]
    },
    {
     "name": "stdout",
     "output_type": "stream",
     "text": [
      "Calculating average vectors...\n",
      "Calculating Slow Wave Densities...\n",
      "455\n",
      "25\n",
      "Saving Slow Wave Data...\n",
      "Plotting Average Slow Wave and Saving...\n",
      "ID: 152 Night: 2\n",
      "Reading in Patient 152\n",
      "Extracting EDF parameters from D:\\APNEA_project_edfs\\File_Sig_Reruns\\Zach_152_2.edf...\n",
      "EDF file detected\n",
      "Setting channel info structure...\n",
      "Creating raw.info structure...\n",
      "Reading 0 ... 5921279  =      0.000 ... 23129.996 secs...\n"
     ]
    },
    {
     "name": "stderr",
     "output_type": "stream",
     "text": [
      "C:\\Users\\zloschin\\AppData\\Local\\Temp\\ipykernel_280\\3236609621.py:21: RuntimeWarning: Physical range is not defined in following channels:\n",
      "RTC\n",
      "  rawImport = mne.io.read_raw_edf(file, preload=True)\n"
     ]
    },
    {
     "name": "stdout",
     "output_type": "stream",
     "text": [
      "Creating dict...\n",
      "Creating artifact label vector...\n",
      "Bandpass filtering...\n",
      "Beta pass filtering...\n",
      "Removing artifacts...\n",
      "D:/APNEA_project_edfs/ReadyForChecking/\\psgHypno-152_2.mat\n",
      "Len hypno\n",
      "771\n",
      "Len eeg\n",
      "5921280\n",
      "Detecting Spindles...\n",
      "Detecting spindles...\n"
     ]
    },
    {
     "name": "stderr",
     "output_type": "stream",
     "text": [
      "[Parallel(n_jobs=1)]: Using backend SequentialBackend with 1 concurrent workers.\n",
      "[Parallel(n_jobs=1)]: Done   1 out of   1 | elapsed:    0.0s remaining:    0.0s\n",
      "[Parallel(n_jobs=1)]: Done   1 out of   1 | elapsed:    0.0s finished\n",
      "[Parallel(n_jobs=1)]: Using backend SequentialBackend with 1 concurrent workers.\n",
      "[Parallel(n_jobs=1)]: Done   1 out of   1 | elapsed:    0.0s remaining:    0.0s\n",
      "[Parallel(n_jobs=1)]: Done   1 out of   1 | elapsed:    0.0s finished\n"
     ]
    },
    {
     "name": "stdout",
     "output_type": "stream",
     "text": [
      "Creating spindle dataframe...\n",
      "Removing everything but spindles...\n",
      "177638400\n",
      "Saving Spindle Data...\n",
      "Calculating Spindle Density...\n",
      "275\n",
      "53\n",
      "Entering Slow Wave Block...\n",
      "Detecting Slow Waves...\n"
     ]
    },
    {
     "name": "stderr",
     "output_type": "stream",
     "text": [
      "[Parallel(n_jobs=1)]: Using backend SequentialBackend with 1 concurrent workers.\n",
      "[Parallel(n_jobs=1)]: Done   1 out of   1 | elapsed:    0.0s remaining:    0.0s\n",
      "[Parallel(n_jobs=1)]: Done   1 out of   1 | elapsed:    0.0s finished\n",
      "[Parallel(n_jobs=1)]: Using backend SequentialBackend with 1 concurrent workers.\n",
      "[Parallel(n_jobs=1)]: Done   1 out of   1 | elapsed:    0.0s remaining:    0.0s\n",
      "[Parallel(n_jobs=1)]: Done   1 out of   1 | elapsed:    0.0s finished\n"
     ]
    },
    {
     "name": "stdout",
     "output_type": "stream",
     "text": [
      "Calculating average vectors...\n",
      "Calculating Slow Wave Densities...\n",
      "275\n",
      "53\n",
      "Saving Slow Wave Data...\n",
      "Plotting Average Slow Wave and Saving...\n",
      "ID: 157 Night: 2\n",
      "Reading in Patient 157\n",
      "Extracting EDF parameters from D:\\APNEA_project_edfs\\File_Sig_Reruns\\Zach_157_2.edf...\n",
      "EDF file detected\n",
      "Setting channel info structure...\n",
      "Creating raw.info structure...\n",
      "Reading 0 ... 7580159  =      0.000 ... 29609.996 secs...\n"
     ]
    },
    {
     "name": "stderr",
     "output_type": "stream",
     "text": [
      "C:\\Users\\zloschin\\AppData\\Local\\Temp\\ipykernel_280\\3236609621.py:21: RuntimeWarning: Physical range is not defined in following channels:\n",
      "RTC\n",
      "  rawImport = mne.io.read_raw_edf(file, preload=True)\n"
     ]
    },
    {
     "name": "stdout",
     "output_type": "stream",
     "text": [
      "Creating dict...\n",
      "Creating artifact label vector...\n",
      "Bandpass filtering...\n",
      "Beta pass filtering...\n",
      "Removing artifacts...\n",
      "D:/APNEA_project_edfs/ReadyForChecking/\\psgHypno-157_2.mat\n",
      "Len hypno\n",
      "987\n",
      "Len eeg\n",
      "7580160\n",
      "Detecting Spindles...\n",
      "Detecting spindles...\n"
     ]
    },
    {
     "name": "stderr",
     "output_type": "stream",
     "text": [
      "[Parallel(n_jobs=1)]: Using backend SequentialBackend with 1 concurrent workers.\n",
      "[Parallel(n_jobs=1)]: Done   1 out of   1 | elapsed:    0.2s remaining:    0.0s\n",
      "[Parallel(n_jobs=1)]: Done   1 out of   1 | elapsed:    0.2s finished\n",
      "[Parallel(n_jobs=1)]: Using backend SequentialBackend with 1 concurrent workers.\n",
      "[Parallel(n_jobs=1)]: Done   1 out of   1 | elapsed:    0.2s remaining:    0.0s\n",
      "[Parallel(n_jobs=1)]: Done   1 out of   1 | elapsed:    0.2s finished\n"
     ]
    },
    {
     "name": "stdout",
     "output_type": "stream",
     "text": [
      "Creating spindle dataframe...\n",
      "Removing everything but spindles...\n",
      "227404800\n",
      "Saving Spindle Data...\n",
      "Calculating Spindle Density...\n",
      "342\n",
      "46\n",
      "Entering Slow Wave Block...\n",
      "Detecting Slow Waves...\n"
     ]
    },
    {
     "name": "stderr",
     "output_type": "stream",
     "text": [
      "[Parallel(n_jobs=1)]: Using backend SequentialBackend with 1 concurrent workers.\n",
      "[Parallel(n_jobs=1)]: Done   1 out of   1 | elapsed:    0.1s remaining:    0.0s\n",
      "[Parallel(n_jobs=1)]: Done   1 out of   1 | elapsed:    0.1s finished\n",
      "[Parallel(n_jobs=1)]: Using backend SequentialBackend with 1 concurrent workers.\n",
      "[Parallel(n_jobs=1)]: Done   1 out of   1 | elapsed:    0.2s remaining:    0.0s\n",
      "[Parallel(n_jobs=1)]: Done   1 out of   1 | elapsed:    0.2s finished\n"
     ]
    },
    {
     "name": "stdout",
     "output_type": "stream",
     "text": [
      "Calculating average vectors...\n",
      "Calculating Slow Wave Densities...\n",
      "342\n",
      "46\n",
      "Saving Slow Wave Data...\n",
      "Plotting Average Slow Wave and Saving...\n",
      "ID: 173 Night: 2\n",
      "Reading in Patient 173\n",
      "Extracting EDF parameters from D:\\APNEA_project_edfs\\File_Sig_Reruns\\Zach_173_2.edf...\n",
      "EDF file detected\n",
      "Setting channel info structure...\n",
      "Creating raw.info structure...\n",
      "Reading 0 ... 7541759  =      0.000 ... 29459.996 secs...\n"
     ]
    },
    {
     "name": "stderr",
     "output_type": "stream",
     "text": [
      "C:\\Users\\zloschin\\AppData\\Local\\Temp\\ipykernel_280\\3236609621.py:21: RuntimeWarning: Physical range is not defined in following channels:\n",
      "RTC\n",
      "  rawImport = mne.io.read_raw_edf(file, preload=True)\n"
     ]
    },
    {
     "name": "stdout",
     "output_type": "stream",
     "text": [
      "Creating dict...\n",
      "Creating artifact label vector...\n",
      "Bandpass filtering...\n",
      "Beta pass filtering...\n",
      "Removing artifacts...\n",
      "D:/APNEA_project_edfs/ReadyForChecking/\\psgHypno-173_2.mat\n",
      "Len hypno\n",
      "982\n",
      "Len eeg\n",
      "7541760\n",
      "Detecting Spindles...\n",
      "Detecting spindles...\n"
     ]
    },
    {
     "name": "stderr",
     "output_type": "stream",
     "text": [
      "[Parallel(n_jobs=1)]: Using backend SequentialBackend with 1 concurrent workers.\n",
      "[Parallel(n_jobs=1)]: Done   1 out of   1 | elapsed:    0.0s remaining:    0.0s\n",
      "[Parallel(n_jobs=1)]: Done   1 out of   1 | elapsed:    0.0s finished\n",
      "[Parallel(n_jobs=1)]: Using backend SequentialBackend with 1 concurrent workers.\n",
      "[Parallel(n_jobs=1)]: Done   1 out of   1 | elapsed:    0.1s remaining:    0.0s\n",
      "[Parallel(n_jobs=1)]: Done   1 out of   1 | elapsed:    0.1s finished\n"
     ]
    },
    {
     "name": "stdout",
     "output_type": "stream",
     "text": [
      "Creating spindle dataframe...\n",
      "Removing everything but spindles...\n",
      "226252800\n",
      "Saving Spindle Data...\n",
      "Calculating Spindle Density...\n",
      "422\n",
      "8\n",
      "Entering Slow Wave Block...\n",
      "Detecting Slow Waves...\n"
     ]
    },
    {
     "name": "stderr",
     "output_type": "stream",
     "text": [
      "[Parallel(n_jobs=1)]: Using backend SequentialBackend with 1 concurrent workers.\n",
      "[Parallel(n_jobs=1)]: Done   1 out of   1 | elapsed:    0.2s remaining:    0.0s\n",
      "[Parallel(n_jobs=1)]: Done   1 out of   1 | elapsed:    0.2s finished\n",
      "[Parallel(n_jobs=1)]: Using backend SequentialBackend with 1 concurrent workers.\n",
      "[Parallel(n_jobs=1)]: Done   1 out of   1 | elapsed:    0.2s remaining:    0.0s\n",
      "[Parallel(n_jobs=1)]: Done   1 out of   1 | elapsed:    0.2s finished\n"
     ]
    },
    {
     "name": "stdout",
     "output_type": "stream",
     "text": [
      "Calculating average vectors...\n",
      "Calculating Slow Wave Densities...\n",
      "422\n",
      "8\n",
      "Saving Slow Wave Data...\n",
      "Plotting Average Slow Wave and Saving...\n",
      "ID: 197 Night: 2\n",
      "Reading in Patient 197\n",
      "Extracting EDF parameters from D:\\APNEA_project_edfs\\File_Sig_Reruns\\Zach_197_2.edf...\n",
      "EDF file detected\n",
      "Setting channel info structure...\n",
      "Creating raw.info structure...\n",
      "Reading 0 ... 6382079  =      0.000 ... 24929.996 secs...\n"
     ]
    },
    {
     "name": "stderr",
     "output_type": "stream",
     "text": [
      "C:\\Users\\zloschin\\AppData\\Local\\Temp\\ipykernel_280\\3236609621.py:21: RuntimeWarning: Physical range is not defined in following channels:\n",
      "RTC\n",
      "  rawImport = mne.io.read_raw_edf(file, preload=True)\n"
     ]
    },
    {
     "name": "stdout",
     "output_type": "stream",
     "text": [
      "Creating dict...\n",
      "Creating artifact label vector...\n",
      "Bandpass filtering...\n",
      "Beta pass filtering...\n",
      "Removing artifacts...\n",
      "D:/APNEA_project_edfs/ReadyForChecking/\\psgHypno-197_2.mat\n",
      "Len hypno\n",
      "831\n",
      "Len eeg\n",
      "6382080\n",
      "Detecting Spindles...\n",
      "Detecting spindles...\n"
     ]
    },
    {
     "name": "stderr",
     "output_type": "stream",
     "text": [
      "[Parallel(n_jobs=1)]: Using backend SequentialBackend with 1 concurrent workers.\n",
      "[Parallel(n_jobs=1)]: Done   1 out of   1 | elapsed:    0.0s remaining:    0.0s\n",
      "[Parallel(n_jobs=1)]: Done   1 out of   1 | elapsed:    0.0s finished\n",
      "[Parallel(n_jobs=1)]: Using backend SequentialBackend with 1 concurrent workers.\n",
      "[Parallel(n_jobs=1)]: Done   1 out of   1 | elapsed:    0.0s remaining:    0.0s\n",
      "[Parallel(n_jobs=1)]: Done   1 out of   1 | elapsed:    0.0s finished\n"
     ]
    },
    {
     "name": "stdout",
     "output_type": "stream",
     "text": [
      "Creating spindle dataframe...\n",
      "Removing everything but spindles...\n",
      "191462400\n",
      "Saving Spindle Data...\n",
      "Calculating Spindle Density...\n",
      "416\n",
      "62\n",
      "Entering Slow Wave Block...\n",
      "Detecting Slow Waves...\n"
     ]
    },
    {
     "name": "stderr",
     "output_type": "stream",
     "text": [
      "[Parallel(n_jobs=1)]: Using backend SequentialBackend with 1 concurrent workers.\n",
      "[Parallel(n_jobs=1)]: Done   1 out of   1 | elapsed:    0.0s remaining:    0.0s\n",
      "[Parallel(n_jobs=1)]: Done   1 out of   1 | elapsed:    0.0s finished\n",
      "[Parallel(n_jobs=1)]: Using backend SequentialBackend with 1 concurrent workers.\n",
      "[Parallel(n_jobs=1)]: Done   1 out of   1 | elapsed:    0.0s remaining:    0.0s\n",
      "[Parallel(n_jobs=1)]: Done   1 out of   1 | elapsed:    0.0s finished\n"
     ]
    },
    {
     "name": "stdout",
     "output_type": "stream",
     "text": [
      "Calculating average vectors...\n",
      "Calculating Slow Wave Densities...\n",
      "416\n",
      "62\n",
      "Saving Slow Wave Data...\n",
      "Plotting Average Slow Wave and Saving...\n",
      "ID: 291 Night: 1\n",
      "Reading in Patient 291\n",
      "Extracting EDF parameters from D:\\APNEA_project_edfs\\File_Sig_Reruns\\Zach_291_1.edf...\n",
      "EDF file detected\n",
      "Setting channel info structure...\n",
      "Creating raw.info structure...\n",
      "Reading 0 ... 6635519  =      0.000 ... 25919.996 secs...\n",
      "Creating dict...\n",
      "Creating artifact label vector...\n",
      "Bandpass filtering...\n",
      "Beta pass filtering...\n",
      "Removing artifacts...\n",
      "D:/APNEA_project_edfs/ReadyForChecking/\\psgHypno-291_1.mat\n",
      "Len hypno\n",
      "864\n",
      "Len eeg\n",
      "6635520\n",
      "Detecting Spindles...\n",
      "Detecting spindles...\n"
     ]
    },
    {
     "name": "stderr",
     "output_type": "stream",
     "text": [
      "[Parallel(n_jobs=1)]: Using backend SequentialBackend with 1 concurrent workers.\n",
      "[Parallel(n_jobs=1)]: Done   1 out of   1 | elapsed:    0.0s remaining:    0.0s\n",
      "[Parallel(n_jobs=1)]: Done   1 out of   1 | elapsed:    0.0s finished\n",
      "[Parallel(n_jobs=1)]: Using backend SequentialBackend with 1 concurrent workers.\n",
      "[Parallel(n_jobs=1)]: Done   1 out of   1 | elapsed:    0.0s remaining:    0.0s\n",
      "[Parallel(n_jobs=1)]: Done   1 out of   1 | elapsed:    0.0s finished\n"
     ]
    },
    {
     "name": "stdout",
     "output_type": "stream",
     "text": [
      "Creating spindle dataframe...\n",
      "Removing everything but spindles...\n",
      "199065600\n",
      "Saving Spindle Data...\n",
      "Calculating Spindle Density...\n",
      "341\n",
      "88\n",
      "Entering Slow Wave Block...\n",
      "Detecting Slow Waves...\n"
     ]
    },
    {
     "name": "stderr",
     "output_type": "stream",
     "text": [
      "[Parallel(n_jobs=1)]: Using backend SequentialBackend with 1 concurrent workers.\n",
      "[Parallel(n_jobs=1)]: Done   1 out of   1 | elapsed:    0.0s remaining:    0.0s\n",
      "[Parallel(n_jobs=1)]: Done   1 out of   1 | elapsed:    0.0s finished\n",
      "[Parallel(n_jobs=1)]: Using backend SequentialBackend with 1 concurrent workers.\n",
      "[Parallel(n_jobs=1)]: Done   1 out of   1 | elapsed:    0.0s remaining:    0.0s\n",
      "[Parallel(n_jobs=1)]: Done   1 out of   1 | elapsed:    0.0s finished\n"
     ]
    },
    {
     "name": "stdout",
     "output_type": "stream",
     "text": [
      "Calculating average vectors...\n",
      "Calculating Slow Wave Densities...\n",
      "341\n",
      "88\n",
      "Saving Slow Wave Data...\n",
      "Plotting Average Slow Wave and Saving...\n",
      "ID: 374 Night: 2\n",
      "Reading in Patient 374\n",
      "Extracting EDF parameters from D:\\APNEA_project_edfs\\File_Sig_Reruns\\Zach_374_2.edf...\n",
      "EDF file detected\n",
      "Setting channel info structure...\n",
      "Creating raw.info structure...\n",
      "Reading 0 ... 7534079  =      0.000 ... 29429.996 secs...\n"
     ]
    },
    {
     "name": "stderr",
     "output_type": "stream",
     "text": [
      "C:\\Users\\zloschin\\AppData\\Local\\Temp\\ipykernel_280\\3236609621.py:21: RuntimeWarning: Physical range is not defined in following channels:\n",
      "RTC\n",
      "  rawImport = mne.io.read_raw_edf(file, preload=True)\n"
     ]
    },
    {
     "name": "stdout",
     "output_type": "stream",
     "text": [
      "Creating dict...\n",
      "Creating artifact label vector...\n",
      "Bandpass filtering...\n",
      "Beta pass filtering...\n",
      "Removing artifacts...\n",
      "D:/APNEA_project_edfs/ReadyForChecking/\\psgHypno-374_2.mat\n",
      "Len hypno\n",
      "981\n",
      "Len eeg\n",
      "7534080\n",
      "Detecting Spindles...\n",
      "Detecting spindles...\n"
     ]
    },
    {
     "name": "stderr",
     "output_type": "stream",
     "text": [
      "[Parallel(n_jobs=1)]: Using backend SequentialBackend with 1 concurrent workers.\n",
      "[Parallel(n_jobs=1)]: Done   1 out of   1 | elapsed:    0.1s remaining:    0.0s\n",
      "[Parallel(n_jobs=1)]: Done   1 out of   1 | elapsed:    0.1s finished\n",
      "[Parallel(n_jobs=1)]: Using backend SequentialBackend with 1 concurrent workers.\n",
      "[Parallel(n_jobs=1)]: Done   1 out of   1 | elapsed:    0.1s remaining:    0.0s\n",
      "[Parallel(n_jobs=1)]: Done   1 out of   1 | elapsed:    0.1s finished\n"
     ]
    },
    {
     "name": "stdout",
     "output_type": "stream",
     "text": [
      "Creating spindle dataframe...\n",
      "Removing everything but spindles...\n",
      "226022400\n",
      "Saving Spindle Data...\n",
      "Calculating Spindle Density...\n",
      "377\n",
      "297\n",
      "Entering Slow Wave Block...\n",
      "Detecting Slow Waves...\n"
     ]
    },
    {
     "name": "stderr",
     "output_type": "stream",
     "text": [
      "[Parallel(n_jobs=1)]: Using backend SequentialBackend with 1 concurrent workers.\n",
      "[Parallel(n_jobs=1)]: Done   1 out of   1 | elapsed:    0.1s remaining:    0.0s\n",
      "[Parallel(n_jobs=1)]: Done   1 out of   1 | elapsed:    0.1s finished\n",
      "[Parallel(n_jobs=1)]: Using backend SequentialBackend with 1 concurrent workers.\n",
      "[Parallel(n_jobs=1)]: Done   1 out of   1 | elapsed:    0.1s remaining:    0.0s\n",
      "[Parallel(n_jobs=1)]: Done   1 out of   1 | elapsed:    0.1s finished\n"
     ]
    },
    {
     "name": "stdout",
     "output_type": "stream",
     "text": [
      "Calculating average vectors...\n",
      "Calculating Slow Wave Densities...\n",
      "377\n",
      "297\n",
      "Saving Slow Wave Data...\n",
      "Plotting Average Slow Wave and Saving...\n",
      "ID: 384 Night: 2\n",
      "Reading in Patient 384\n",
      "Extracting EDF parameters from D:\\APNEA_project_edfs\\File_Sig_Reruns\\Zach_384_2.edf...\n",
      "EDF file detected\n",
      "Setting channel info structure...\n",
      "Creating raw.info structure...\n",
      "Reading 0 ... 7326719  =      0.000 ... 28619.996 secs...\n"
     ]
    },
    {
     "name": "stderr",
     "output_type": "stream",
     "text": [
      "C:\\Users\\zloschin\\AppData\\Local\\Temp\\ipykernel_280\\3236609621.py:21: RuntimeWarning: Physical range is not defined in following channels:\n",
      "RTC\n",
      "  rawImport = mne.io.read_raw_edf(file, preload=True)\n"
     ]
    },
    {
     "name": "stdout",
     "output_type": "stream",
     "text": [
      "Creating dict...\n",
      "Creating artifact label vector...\n",
      "Bandpass filtering...\n",
      "Beta pass filtering...\n",
      "Removing artifacts...\n",
      "D:/APNEA_project_edfs/ReadyForChecking/\\psgHypno-384_2.mat\n",
      "Len hypno\n",
      "954\n",
      "Len eeg\n",
      "7326720\n",
      "Detecting Spindles...\n",
      "Detecting spindles...\n"
     ]
    },
    {
     "name": "stderr",
     "output_type": "stream",
     "text": [
      "[Parallel(n_jobs=1)]: Using backend SequentialBackend with 1 concurrent workers.\n",
      "[Parallel(n_jobs=1)]: Done   1 out of   1 | elapsed:    0.0s remaining:    0.0s\n",
      "[Parallel(n_jobs=1)]: Done   1 out of   1 | elapsed:    0.0s finished\n",
      "[Parallel(n_jobs=1)]: Using backend SequentialBackend with 1 concurrent workers.\n",
      "[Parallel(n_jobs=1)]: Done   1 out of   1 | elapsed:    0.1s remaining:    0.0s\n",
      "[Parallel(n_jobs=1)]: Done   1 out of   1 | elapsed:    0.1s finished\n"
     ]
    },
    {
     "name": "stdout",
     "output_type": "stream",
     "text": [
      "Creating spindle dataframe...\n",
      "Removing everything but spindles...\n",
      "219801600\n",
      "Saving Spindle Data...\n",
      "Calculating Spindle Density...\n",
      "447\n",
      "73\n",
      "Entering Slow Wave Block...\n",
      "Detecting Slow Waves...\n"
     ]
    },
    {
     "name": "stderr",
     "output_type": "stream",
     "text": [
      "[Parallel(n_jobs=1)]: Using backend SequentialBackend with 1 concurrent workers.\n",
      "[Parallel(n_jobs=1)]: Done   1 out of   1 | elapsed:    0.1s remaining:    0.0s\n",
      "[Parallel(n_jobs=1)]: Done   1 out of   1 | elapsed:    0.1s finished\n",
      "[Parallel(n_jobs=1)]: Using backend SequentialBackend with 1 concurrent workers.\n",
      "[Parallel(n_jobs=1)]: Done   1 out of   1 | elapsed:    0.1s remaining:    0.0s\n",
      "[Parallel(n_jobs=1)]: Done   1 out of   1 | elapsed:    0.1s finished\n"
     ]
    },
    {
     "name": "stdout",
     "output_type": "stream",
     "text": [
      "Calculating average vectors...\n",
      "Calculating Slow Wave Densities...\n",
      "447\n",
      "73\n",
      "Saving Slow Wave Data...\n",
      "Plotting Average Slow Wave and Saving...\n",
      "ID: 398 Night: 2\n",
      "Reading in Patient 398\n",
      "Extracting EDF parameters from D:\\APNEA_project_edfs\\File_Sig_Reruns\\Zach_398_2.edf...\n",
      "EDF file detected\n",
      "Setting channel info structure...\n",
      "Creating raw.info structure...\n",
      "Reading 0 ... 6735359  =      0.000 ... 26309.996 secs...\n"
     ]
    },
    {
     "name": "stderr",
     "output_type": "stream",
     "text": [
      "C:\\Users\\zloschin\\AppData\\Local\\Temp\\ipykernel_280\\3236609621.py:21: RuntimeWarning: Physical range is not defined in following channels:\n",
      "RTC\n",
      "  rawImport = mne.io.read_raw_edf(file, preload=True)\n"
     ]
    },
    {
     "name": "stdout",
     "output_type": "stream",
     "text": [
      "Creating dict...\n",
      "Creating artifact label vector...\n",
      "Bandpass filtering...\n",
      "Beta pass filtering...\n",
      "Removing artifacts...\n",
      "D:/APNEA_project_edfs/ReadyForChecking/\\psgHypno-398_2.mat\n",
      "Len hypno\n",
      "877\n",
      "Len eeg\n",
      "6735360\n",
      "Detecting Spindles...\n",
      "Detecting spindles...\n"
     ]
    },
    {
     "name": "stderr",
     "output_type": "stream",
     "text": [
      "[Parallel(n_jobs=1)]: Using backend SequentialBackend with 1 concurrent workers.\n",
      "[Parallel(n_jobs=1)]: Done   1 out of   1 | elapsed:    0.0s remaining:    0.0s\n",
      "[Parallel(n_jobs=1)]: Done   1 out of   1 | elapsed:    0.0s finished\n",
      "[Parallel(n_jobs=1)]: Using backend SequentialBackend with 1 concurrent workers.\n",
      "[Parallel(n_jobs=1)]: Done   1 out of   1 | elapsed:    0.0s remaining:    0.0s\n",
      "[Parallel(n_jobs=1)]: Done   1 out of   1 | elapsed:    0.0s finished\n"
     ]
    },
    {
     "name": "stdout",
     "output_type": "stream",
     "text": [
      "Creating spindle dataframe...\n",
      "Removing everything but spindles...\n",
      "202060800\n",
      "Saving Spindle Data...\n",
      "Calculating Spindle Density...\n",
      "265\n",
      "338\n",
      "Entering Slow Wave Block...\n",
      "Detecting Slow Waves...\n"
     ]
    },
    {
     "name": "stderr",
     "output_type": "stream",
     "text": [
      "[Parallel(n_jobs=1)]: Using backend SequentialBackend with 1 concurrent workers.\n",
      "[Parallel(n_jobs=1)]: Done   1 out of   1 | elapsed:    0.0s remaining:    0.0s\n",
      "[Parallel(n_jobs=1)]: Done   1 out of   1 | elapsed:    0.0s finished\n",
      "[Parallel(n_jobs=1)]: Using backend SequentialBackend with 1 concurrent workers.\n",
      "[Parallel(n_jobs=1)]: Done   1 out of   1 | elapsed:    0.1s remaining:    0.0s\n",
      "[Parallel(n_jobs=1)]: Done   1 out of   1 | elapsed:    0.1s finished\n"
     ]
    },
    {
     "name": "stdout",
     "output_type": "stream",
     "text": [
      "Calculating average vectors...\n",
      "Calculating Slow Wave Densities...\n",
      "265\n",
      "338\n",
      "Saving Slow Wave Data...\n",
      "Plotting Average Slow Wave and Saving...\n",
      "ID: 401 Night: 2\n",
      "Reading in Patient 401\n",
      "Extracting EDF parameters from D:\\APNEA_project_edfs\\File_Sig_Reruns\\Zach_401_2.edf...\n",
      "EDF file detected\n",
      "Setting channel info structure...\n",
      "Creating raw.info structure...\n",
      "Reading 0 ... 6443519  =      0.000 ... 25169.996 secs...\n"
     ]
    },
    {
     "name": "stderr",
     "output_type": "stream",
     "text": [
      "C:\\Users\\zloschin\\AppData\\Local\\Temp\\ipykernel_280\\3236609621.py:21: RuntimeWarning: Physical range is not defined in following channels:\n",
      "RTC\n",
      "  rawImport = mne.io.read_raw_edf(file, preload=True)\n"
     ]
    },
    {
     "name": "stdout",
     "output_type": "stream",
     "text": [
      "Creating dict...\n",
      "Creating artifact label vector...\n",
      "Bandpass filtering...\n",
      "Beta pass filtering...\n",
      "Removing artifacts...\n",
      "D:/APNEA_project_edfs/ReadyForChecking/\\psgHypno-401_2.mat\n",
      "Len hypno\n",
      "839\n",
      "Len eeg\n",
      "6443520\n",
      "Detecting Spindles...\n",
      "Detecting spindles...\n"
     ]
    },
    {
     "name": "stderr",
     "output_type": "stream",
     "text": [
      "[Parallel(n_jobs=1)]: Using backend SequentialBackend with 1 concurrent workers.\n",
      "[Parallel(n_jobs=1)]: Done   1 out of   1 | elapsed:    0.0s remaining:    0.0s\n",
      "[Parallel(n_jobs=1)]: Done   1 out of   1 | elapsed:    0.0s finished\n",
      "[Parallel(n_jobs=1)]: Using backend SequentialBackend with 1 concurrent workers.\n",
      "[Parallel(n_jobs=1)]: Done   1 out of   1 | elapsed:    0.0s remaining:    0.0s\n",
      "[Parallel(n_jobs=1)]: Done   1 out of   1 | elapsed:    0.0s finished\n"
     ]
    },
    {
     "name": "stdout",
     "output_type": "stream",
     "text": [
      "Creating spindle dataframe...\n",
      "Removing everything but spindles...\n",
      "193305600\n",
      "Saving Spindle Data...\n",
      "Calculating Spindle Density...\n",
      "215\n",
      "222\n",
      "Entering Slow Wave Block...\n",
      "Detecting Slow Waves...\n"
     ]
    },
    {
     "name": "stderr",
     "output_type": "stream",
     "text": [
      "[Parallel(n_jobs=1)]: Using backend SequentialBackend with 1 concurrent workers.\n",
      "[Parallel(n_jobs=1)]: Done   1 out of   1 | elapsed:    0.0s remaining:    0.0s\n",
      "[Parallel(n_jobs=1)]: Done   1 out of   1 | elapsed:    0.0s finished\n",
      "[Parallel(n_jobs=1)]: Using backend SequentialBackend with 1 concurrent workers.\n",
      "[Parallel(n_jobs=1)]: Done   1 out of   1 | elapsed:    0.0s remaining:    0.0s\n",
      "[Parallel(n_jobs=1)]: Done   1 out of   1 | elapsed:    0.0s finished\n"
     ]
    },
    {
     "name": "stdout",
     "output_type": "stream",
     "text": [
      "Calculating average vectors...\n",
      "Calculating Slow Wave Densities...\n",
      "215\n",
      "222\n",
      "Saving Slow Wave Data...\n",
      "Plotting Average Slow Wave and Saving...\n",
      "ID: 402 Night: 2\n",
      "Reading in Patient 402\n",
      "Extracting EDF parameters from D:\\APNEA_project_edfs\\File_Sig_Reruns\\Zach_402_2.edf...\n",
      "EDF file detected\n",
      "Setting channel info structure...\n",
      "Creating raw.info structure...\n",
      "Reading 0 ... 4930559  =      0.000 ... 19259.996 secs...\n"
     ]
    },
    {
     "name": "stderr",
     "output_type": "stream",
     "text": [
      "C:\\Users\\zloschin\\AppData\\Local\\Temp\\ipykernel_280\\3236609621.py:21: RuntimeWarning: Physical range is not defined in following channels:\n",
      "RTC\n",
      "  rawImport = mne.io.read_raw_edf(file, preload=True)\n"
     ]
    },
    {
     "name": "stdout",
     "output_type": "stream",
     "text": [
      "Creating dict...\n",
      "Creating artifact label vector...\n",
      "Bandpass filtering...\n",
      "Beta pass filtering...\n",
      "Removing artifacts...\n",
      "D:/APNEA_project_edfs/ReadyForChecking/\\psgHypno-402_2.mat\n",
      "Len hypno\n",
      "642\n",
      "Len eeg\n",
      "4930560\n",
      "Detecting Spindles...\n",
      "Detecting spindles...\n"
     ]
    },
    {
     "name": "stderr",
     "output_type": "stream",
     "text": [
      "[Parallel(n_jobs=1)]: Using backend SequentialBackend with 1 concurrent workers.\n",
      "[Parallel(n_jobs=1)]: Done   1 out of   1 | elapsed:    0.2s remaining:    0.0s\n",
      "[Parallel(n_jobs=1)]: Done   1 out of   1 | elapsed:    0.2s finished\n",
      "[Parallel(n_jobs=1)]: Using backend SequentialBackend with 1 concurrent workers.\n",
      "[Parallel(n_jobs=1)]: Done   1 out of   1 | elapsed:    0.2s remaining:    0.0s\n",
      "[Parallel(n_jobs=1)]: Done   1 out of   1 | elapsed:    0.2s finished\n"
     ]
    },
    {
     "name": "stdout",
     "output_type": "stream",
     "text": [
      "Creating spindle dataframe...\n",
      "Removing everything but spindles...\n",
      "147916800\n",
      "Saving Spindle Data...\n",
      "Calculating Spindle Density...\n",
      "275\n",
      "241\n",
      "Entering Slow Wave Block...\n",
      "Detecting Slow Waves...\n"
     ]
    },
    {
     "name": "stderr",
     "output_type": "stream",
     "text": [
      "[Parallel(n_jobs=1)]: Using backend SequentialBackend with 1 concurrent workers.\n",
      "[Parallel(n_jobs=1)]: Done   1 out of   1 | elapsed:    0.0s remaining:    0.0s\n",
      "[Parallel(n_jobs=1)]: Done   1 out of   1 | elapsed:    0.0s finished\n",
      "[Parallel(n_jobs=1)]: Using backend SequentialBackend with 1 concurrent workers.\n",
      "[Parallel(n_jobs=1)]: Done   1 out of   1 | elapsed:    0.0s remaining:    0.0s\n",
      "[Parallel(n_jobs=1)]: Done   1 out of   1 | elapsed:    0.0s finished\n"
     ]
    },
    {
     "name": "stdout",
     "output_type": "stream",
     "text": [
      "Calculating average vectors...\n",
      "Calculating Slow Wave Densities...\n",
      "275\n",
      "241\n",
      "Saving Slow Wave Data...\n",
      "Plotting Average Slow Wave and Saving...\n",
      "ID: 414 Night: 2\n",
      "Reading in Patient 414\n",
      "Extracting EDF parameters from D:\\APNEA_project_edfs\\File_Sig_Reruns\\Zach_414_2.edf...\n",
      "EDF file detected\n",
      "Setting channel info structure...\n",
      "Creating raw.info structure...\n",
      "Reading 0 ... 6428159  =      0.000 ... 25109.996 secs...\n"
     ]
    },
    {
     "name": "stderr",
     "output_type": "stream",
     "text": [
      "C:\\Users\\zloschin\\AppData\\Local\\Temp\\ipykernel_280\\3236609621.py:21: RuntimeWarning: Physical range is not defined in following channels:\n",
      "RTC\n",
      "  rawImport = mne.io.read_raw_edf(file, preload=True)\n"
     ]
    },
    {
     "name": "stdout",
     "output_type": "stream",
     "text": [
      "Creating dict...\n",
      "Creating artifact label vector...\n",
      "Bandpass filtering...\n",
      "Beta pass filtering...\n",
      "Removing artifacts...\n",
      "D:/APNEA_project_edfs/ReadyForChecking/\\psgHypno-414_2.mat\n",
      "Len hypno\n",
      "837\n",
      "Len eeg\n",
      "6428160\n",
      "Detecting Spindles...\n",
      "Detecting spindles...\n"
     ]
    },
    {
     "name": "stderr",
     "output_type": "stream",
     "text": [
      "[Parallel(n_jobs=1)]: Using backend SequentialBackend with 1 concurrent workers.\n",
      "[Parallel(n_jobs=1)]: Done   1 out of   1 | elapsed:    0.0s remaining:    0.0s\n",
      "[Parallel(n_jobs=1)]: Done   1 out of   1 | elapsed:    0.0s finished\n",
      "[Parallel(n_jobs=1)]: Using backend SequentialBackend with 1 concurrent workers.\n",
      "[Parallel(n_jobs=1)]: Done   1 out of   1 | elapsed:    0.1s remaining:    0.0s\n",
      "[Parallel(n_jobs=1)]: Done   1 out of   1 | elapsed:    0.1s finished\n"
     ]
    },
    {
     "name": "stdout",
     "output_type": "stream",
     "text": [
      "Creating spindle dataframe...\n",
      "Removing everything but spindles...\n",
      "192844800\n",
      "Saving Spindle Data...\n",
      "Calculating Spindle Density...\n",
      "360\n",
      "268\n",
      "Entering Slow Wave Block...\n",
      "Detecting Slow Waves...\n"
     ]
    },
    {
     "name": "stderr",
     "output_type": "stream",
     "text": [
      "[Parallel(n_jobs=1)]: Using backend SequentialBackend with 1 concurrent workers.\n",
      "[Parallel(n_jobs=1)]: Done   1 out of   1 | elapsed:    0.1s remaining:    0.0s\n",
      "[Parallel(n_jobs=1)]: Done   1 out of   1 | elapsed:    0.1s finished\n",
      "[Parallel(n_jobs=1)]: Using backend SequentialBackend with 1 concurrent workers.\n",
      "[Parallel(n_jobs=1)]: Done   1 out of   1 | elapsed:    0.1s remaining:    0.0s\n",
      "[Parallel(n_jobs=1)]: Done   1 out of   1 | elapsed:    0.1s finished\n"
     ]
    },
    {
     "name": "stdout",
     "output_type": "stream",
     "text": [
      "Calculating average vectors...\n",
      "Calculating Slow Wave Densities...\n",
      "360\n",
      "268\n",
      "Saving Slow Wave Data...\n",
      "Plotting Average Slow Wave and Saving...\n"
     ]
    },
    {
     "data": {
      "text/plain": [
       "<Figure size 640x480 with 0 Axes>"
      ]
     },
     "metadata": {},
     "output_type": "display_data"
    }
   ],
   "source": [
    "\"\"\"\n",
    "Setup file generator for the for loop\n",
    "\"\"\"\n",
    "files = pathlib.Path(data_dir).glob('*.edf')\n",
    "\n",
    "print(\"Entering Participant Loop...\")\n",
    "for file in files:\n",
    "    try:\n",
    "        with open(file, 'rb') as f:\n",
    "            # Get ID and Night Number from the File Name\n",
    "            split_array = str(file).split('_')\n",
    "            night = int(split_array[-1][0])\n",
    "            ID =int(split_array[-2])\n",
    "            IDs.append(ID)\n",
    "            print(f\"ID: {ID} Night: {night}\")\n",
    "\n",
    "            \"\"\"\n",
    "            Read in EDF\n",
    "            \"\"\"\n",
    "            print(f\"Reading in Patient {ID}\")\n",
    "            rawImport = mne.io.read_raw_edf(file, preload=True)\n",
    "            eeg = rawImport[\"EEG\"][0][0]\n",
    "\n",
    "            \"\"\"\n",
    "            Creation of our data dictionary\n",
    "            \"\"\"\n",
    "            print(\"Creating dict...\")\n",
    "            # Create epoch vector\n",
    "            epochVec = my.create_epochs(rawImport[\"EEG\"][0][0], rawImport.info[\"sfreq\"], 30)\n",
    "\n",
    "            # Create epoch time vector\n",
    "            epochTimeVec = my.create_epochs(rawImport[\"EEG\"][1], rawImport.info[\"sfreq\"], 30)\n",
    "\n",
    "            # Create Dictionary for organization\n",
    "            data = my.create_dict(rawImport[\"EEG\"][0][0], rawImport.info[\"sfreq\"], rawImport[\"EEG\"][1], epochVec,\n",
    "                                epochTimeVec)\n",
    "            \n",
    "            \"\"\"\n",
    "            Artifact removal (create label vec with artifact locations as Nan)\n",
    "            \"\"\"\n",
    "            print(\"Creating artifact label vector...\")\n",
    "            data[\"ArtZero\"] = np.zeros(len(data[\"EEG\"]))\n",
    "            for i in range(len(data[\"ArtZero\"])):\n",
    "                if abs(data[\"EEG\"][i]) >= 250:\n",
    "                    data[\"ArtZero\"][i] = np.nan\n",
    "\n",
    "            \"\"\"\n",
    "            Band pass filter the EEG data (10-16 Hz)\n",
    "            \"\"\"\n",
    "            print(\"Bandpass filtering...\")\n",
    "            data[\"EEG_Filt\"] = my.butter_bandpass_filter(data[\"EEG\"], 10, 16, data[\"fs\"], order=5)\n",
    "\n",
    "            \"\"\"\n",
    "            Upper Beta pass filter to graph (20-50 Hz)\n",
    "            \"\"\"\n",
    "            print(\"Beta pass filtering...\")\n",
    "            data[\"EEG_Beta\"] = my.butter_bandpass_filter(data[\"EEG\"], 20, 50, data[\"fs\"], order=5)\n",
    "            data[\"Beta_Labels\"] = np.zeros(len(data[\"EEG_Beta\"]))\n",
    "\n",
    "            # For any threshold event, change the beta label vec to 1\n",
    "            for i in range(len(data[\"EEG_Beta\"])):\n",
    "                if data[\"EEG_Beta\"][i] > 10:\n",
    "                    data[\"Beta_Labels\"][i - 64:i + 64] = 1\n",
    "\n",
    "            \"\"\"\n",
    "            Remove artifacts using the label vector\n",
    "            \"\"\"\n",
    "            print(\"Removing artifacts...\")\n",
    "            data[\"EEG_ArtZero\"] = data[\"EEG\"]\n",
    "            for i in range(len(data[\"EEG\"])):\n",
    "                if np.isnan(data[\"ArtZero\"][i]):\n",
    "                    data[\"EEG_ArtZero\"][i] = 0\n",
    "                    data[\"EEG_Filt\"][i] = 0\n",
    "                    data[\"EEG_Beta\"][i] = 0\n",
    "            \n",
    "            \"\"\"\n",
    "            Load hypnogram \n",
    "            \"\"\"\n",
    "            hypno_path = 'D:/APNEA_project_edfs/ReadyForChecking/'\n",
    "            print(hypno_path+os.sep+'psgHypno-%s_%s.mat'% (ID, night))\n",
    "            hypno = h5py.File(hypno_path+os.sep+'psgHypno-%s_%s.mat'% (ID, night)) \n",
    "\n",
    "            print(\"Len hypno\")\n",
    "            print(len(hypno['dat']))\n",
    "            print(\"Len eeg\")\n",
    "            print(len(rawImport[\"EEG\"][0][0]))\n",
    "\n",
    "            hypno = hypno['dat']\n",
    "            hypno = np.array(hypno)\n",
    "            selectedHypno = hypno[:,1]\n",
    "\n",
    "            # Create a dictionary to map values to strings\n",
    "            mapping = {0: 'W', 1: 'N1', 2: 'N2', 3: 'N3', 5: 'R'}\n",
    "\n",
    "            # Replace the values in selectedHypno with the corresponding strings\n",
    "            # If a value is not in the mapping, replace it with 'W'\n",
    "            hypno = np.array([mapping.get(x, 'W') for x in selectedHypno])\n",
    "\n",
    "            \"\"\"\n",
    "            Yasa spindle detection and noise elimination\n",
    "            \"\"\"\n",
    "            # Convert the hypnograms to numbers\n",
    "            HypnoEnum = my.hypno_to_plot_art(hypno)\n",
    "\n",
    "            # Upsample the Hypnogram to be the same length as the data array\n",
    "            hypnoEnumUpsampled = my.upsample_hypno_to_data(HypnoEnum, data)\n",
    "            \n",
    "            print(\"Detecting Spindles...\")\n",
    "            # Detect spindles\n",
    "            spindles = my.detect_spindles(data, hypnoEnumUpsampled, night=2, samples1=0)\n",
    "\n",
    "            \"\"\"\n",
    "            11) Save spindle data to excel\n",
    "            \"\"\"\n",
    "            print(\"Saving Spindle Data...\")\n",
    "            n1File = \"Spindle_%s_\" % ID\n",
    "            n1File = n1File + \"%s.xlsx\" % night\n",
    "            n1Path = dict_dir_spindles / n1File\n",
    "            spindles.to_excel(n1Path)\n",
    "\n",
    "\n",
    "            \"\"\"\n",
    "            12) Calculating NREM Spindle Densities\n",
    "            \"\"\"\n",
    "            print(\"Calculating Spindle Density...\")\n",
    "            NREM2_Density, NREM3_Density, NREM23_Density = my.nrem_densities(spindles, HypnoEnum)\n",
    "\n",
    "            N2D.append(NREM2_Density)\n",
    "            N3D.append(NREM3_Density)\n",
    "            N23D.append(NREM23_Density)\n",
    "    except Exception as e:\n",
    "        print(\"**********************************\")\n",
    "        print(e)\n",
    "        error_file = '%s_%s.txt' % (ID, 'ErrorMSG')\n",
    "        error_path = error_dir_spindles/ error_file\n",
    "        with open(error_path, 'w') as file:\n",
    "            file.write(str(e))\n",
    "        continue\n",
    "\n",
    "    try:\n",
    "        print(\"Entering Slow Wave Block...\")\n",
    "        \"\"\"\n",
    "        Yasa Slow wave detection\n",
    "        \"\"\"\n",
    "        # Upsample the Hypnogram to be the same length as the data array\n",
    "        hypnoEnumUpsampled = my.upsample_hypno_to_data(HypnoEnum, data)\n",
    "        \n",
    "        print(\"Detecting Slow Waves...\")\n",
    "        SW_Summary, ave_sw = my.detect_slow_waves(data, hypnoEnumUpsampled)\n",
    "        \n",
    "\n",
    "        \"\"\"\n",
    "        Calculate slow wave densities\n",
    "        \"\"\"\n",
    "        print(\"Calculating Slow Wave Densities...\")\n",
    "        NREM2_Density, NREM3_Density, NREM23_Density = my.nrem_densities(SW_Summary, HypnoEnum)\n",
    "\n",
    "        N2D_SW.append(NREM2_Density)\n",
    "        N3D_SW.append(NREM3_Density)\n",
    "        N23D_SW.append(NREM23_Density)\n",
    "        \n",
    "        \n",
    "        \"\"\"\n",
    "        11) Save Slow wave data to excel\n",
    "        \"\"\"\n",
    "        print(\"Saving Slow Wave Data...\")\n",
    "        n1File = \"Slow_Wave_%s_\" % ID\n",
    "        n1File = n1File + \"%s.xlsx\" % night\n",
    "        n1Path = dict_dir_sw / n1File\n",
    "        SW_Summary.to_excel(n1Path)\n",
    "        \n",
    "        \n",
    "        \"\"\"\n",
    "        Graph the average slow wave and save it\n",
    "        \"\"\"\n",
    "        print(\"Plotting Average Slow Wave and Saving...\")\n",
    "        plt.plot(ave_sw)\n",
    "        plt.xlabel('Time (s)')\n",
    "        plt.ylabel('Normalized Ampliteude (uV)')\n",
    "        plt.title('Average SW Graph ')\n",
    "        plt.grid(True)\n",
    "        plt.savefig(f'./Combined_Running/SW_Data/Plots/Slow_Wave_Graph_{ID}_AmpFiltered.png')\n",
    "        plt.clf()\n",
    "        \n",
    "    except Exception as e:\n",
    "        print(\"##################################\")\n",
    "        error_file = '%s_%s.txt' % (ID, 'ErrorMSG')\n",
    "        error_path = error_dir_sw / error_file\n",
    "        with open(error_path, 'w') as file:\n",
    "            file.write(str(e))\n",
    "        continue\n"
   ]
  },
  {
   "cell_type": "code",
   "execution_count": 7,
   "metadata": {},
   "outputs": [
    {
     "name": "stdout",
     "output_type": "stream",
     "text": [
      "Saving Spindle Density Table...\n",
      "Saving Slow Wave Density Table\n"
     ]
    }
   ],
   "source": [
    "\"\"\"\n",
    "Save the Spindle Density Tables\n",
    "\"\"\"\n",
    "print(\"Saving Spindle Density Table...\")\n",
    "densities = pd.DataFrame()\n",
    "\n",
    "densities[\"N2\"] = N2D\n",
    "densities[\"N3\"] = N3D\n",
    "densities[\"N23\"] = N23D\n",
    "\n",
    "filename = 'Spindle_Densities.xlsx'\n",
    "spindle_density_path  = pipdir_spindles / filename\n",
    "densities.to_excel(spindle_density_path)\n",
    "\n",
    "\n",
    "\"\"\"\n",
    "Save the Slow Wave Density Tables\n",
    "\"\"\"\n",
    "print(\"Saving Slow Wave Density Table\")\n",
    "densities_sw = pd.DataFrame()\n",
    "densities_sw[\"N2\"] = N2D_SW\n",
    "densities_sw[\"N3\"] = N3D_SW\n",
    "densities_sw[\"N23\"] = N23D_SW\n",
    "\n",
    "filename = 'SW_Densities.xlsx'\n",
    "sw_density_path = pipdir_sw / filename\n",
    "densities_sw.to_excel(sw_density_path)"
   ]
  }
 ],
 "metadata": {
  "kernelspec": {
   "display_name": "Python 3",
   "language": "python",
   "name": "python3"
  },
  "language_info": {
   "codemirror_mode": {
    "name": "ipython",
    "version": 3
   },
   "file_extension": ".py",
   "mimetype": "text/x-python",
   "name": "python",
   "nbconvert_exporter": "python",
   "pygments_lexer": "ipython3",
   "version": "3.11.4"
  },
  "orig_nbformat": 4
 },
 "nbformat": 4,
 "nbformat_minor": 2
}
